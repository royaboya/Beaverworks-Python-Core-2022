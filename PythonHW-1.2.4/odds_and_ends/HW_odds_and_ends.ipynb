{
 "cells": [
  {
   "cell_type": "markdown",
   "metadata": {},
   "source": [
    "## Odds and Ends: File Reading and Matplotlib\n",
    "\n",
    "Now that we're familiar with the essentials of the Python language we're going to practice [reading files](https://www.pythonlikeyoumeanit.com/Module5_OddsAndEnds/WorkingWithFiles.html) and [plotting with Matplotlib](https://www.pythonlikeyoumeanit.com/Module5_OddsAndEnds/Matplotlib.html). \n",
    "\n",
    "Although these topics may be considered \"odds and ends\", they are common in many day-to-day applications. You'll find that spending some time up front to become familiar with these materials will save a lot of time down the road."
   ]
  },
  {
   "cell_type": "markdown",
   "metadata": {},
   "source": [
    "## Problem 1: Reading and Parsing Files\n",
    "Let's pretend we were conducting a survey of favorite foods. Each participant is asked to list their favorite foods along with its category (e.g. dessert, snack, fruit). The food and category are separated by a colon, and each food-category pair is separated by a comma like so\n",
    "\n",
    "```food: category, food: category, food: category, ... ```\n",
    "\n",
    "The results of this survey are stored in a text file, `results.txt`, giving us a great opportunity to practice our file reading skills!\n",
    "\n",
    "Our task is to write a function called `get_most_popular_foods` that takes a file path of survey results and returns the most common response for each food category in the form of a dictionary where the keys are the food categories and the values are the most common food of that type. If there is a tie, return the food that comes first alphabetically. Note, we don't know which food categories will be given before reading the file.\n",
    "\n",
    "So, if we had data in the file `example.txt` with the contents below\n",
    "\n",
    "``` granola bars: snack, shrimp: seafood\n",
    "granola bars: snack\n",
    "tuna: seafood ```\n",
    "\n",
    "Our function would produce the following result\n",
    " ``` python\n",
    " >>> get_most_popular_foods('example.txt')\n",
    "  {'snack': 'granola bars', 'seafood': ' shrimp'}\n",
    " ```\n",
    " \n",
    " The `collections.Counter` object will be useful for this problem. Also, the function `itertools.chain` may come in handy.\n",
    " \n",
    "For reference, there is a short example input under `resources/example-survey.txt`. On this input, your function should produce the response as follows\n",
    " ``` python\n",
    ">>> get_most_popular_foods('resources/example-survey.txt')\n",
    " {'dessert': 'cake', 'vegetable': 'carrots', 'fruit': 'peaches'}\n",
    "```"
   ]
  },
  {
   "cell_type": "code",
   "execution_count": 35,
   "metadata": {},
   "outputs": [],
   "source": [
    "import re\n",
    "\n",
    "def get_most_popular_foods(file_path):\n",
    "    \"\"\" Read in survey and determine the most common food of each type.\n",
    "    \n",
    "    Parameters\n",
    "    ----------\n",
    "    file_path : str\n",
    "        Path to text file containing favorite food survey responses.\n",
    "        \n",
    "    Returns\n",
    "    -------\n",
    "    Dict[str, str]\n",
    "        Dictionary with the key being food type and value being food.\n",
    "    \"\"\"\n",
    "    \n",
    "    #https://docs.python.org/3/library/collections.html#collections.Counter\n",
    "\n",
    "    # value of file pairs are keys in returned\n",
    "\n",
    "    category_map = {}\n",
    "    food_counters = {}\n",
    "\n",
    "\n",
    "    with open(file_path, mode=\"r\") as f:\n",
    "        file = f.read()\n",
    "        pairs = re.split('\\n|,', file)\n",
    "        print(pairs)\n",
    "\n",
    "        for pair in pairs:\n",
    "            (key, val) = pair.split(':')\n",
    "            if key not in category_map:\n",
    "                pass\n",
    "\n",
    "\n",
    "        # for line in f:\n",
    "            # (key, val) = line.strip('\\n').split(':')\n",
    "            # # lst = line.strip('\\n').split(',')\n",
    "            # # for pair in lst:\n",
    "            # #     pass\n",
    "            # print(key, val)\n",
    "\n",
    "            #     categories.add(key)\n",
    "    return {}"
   ]
  },
  {
   "cell_type": "code",
   "execution_count": 36,
   "metadata": {},
   "outputs": [
    {
     "name": "stdout",
     "output_type": "stream",
     "text": [
      "['candy: dessert', 'pears: fruit', ' tuna: meat', ' candy: dessert', 'peaches: fruit', ' kale: vegetable', ' carrots: vegetable', 'cookies: dessert', ' ice cream: dessert', ' candy: dessert']\n"
     ]
    },
    {
     "ename": "StudentError",
     "evalue": "\nCalling \n\tstudent_function('favorite-foods.txt')\nproduces the following error:\n\tValueError:dictionary update sequence element #0 has length 5; 2 is required\nPlease run your function, as displayed above, in your Jupyter notebook to get a detailed stacktrace of the error, and debug your function.",
     "output_type": "error",
     "traceback": [
      "\u001b[1;31m---------------------------------------------------------------------------\u001b[0m",
      "\u001b[1;31mValueError\u001b[0m                                Traceback (most recent call last)",
      "\u001b[1;32m~\\anaconda3\\lib\\site-packages\\bwsi_grader\\__init__.py\u001b[0m in \u001b[0;36mcompare_functions\u001b[1;34m(student, soln, fn_args, fn_kwargs, function_name, comparison_function)\u001b[0m\n\u001b[0;32m    118\u001b[0m     \u001b[1;32mtry\u001b[0m\u001b[1;33m:\u001b[0m\u001b[1;33m\u001b[0m\u001b[1;33m\u001b[0m\u001b[0m\n\u001b[1;32m--> 119\u001b[1;33m         \u001b[0mstudent_out\u001b[0m \u001b[1;33m=\u001b[0m \u001b[0mstudent\u001b[0m\u001b[1;33m(\u001b[0m\u001b[1;33m*\u001b[0m\u001b[0mfn_args\u001b[0m\u001b[1;33m,\u001b[0m \u001b[1;33m**\u001b[0m\u001b[0mfn_kwargs\u001b[0m\u001b[1;33m)\u001b[0m\u001b[1;33m\u001b[0m\u001b[1;33m\u001b[0m\u001b[0m\n\u001b[0m\u001b[0;32m    120\u001b[0m     \u001b[1;32mexcept\u001b[0m \u001b[0mException\u001b[0m \u001b[1;32mas\u001b[0m \u001b[0me\u001b[0m\u001b[1;33m:\u001b[0m\u001b[1;33m\u001b[0m\u001b[1;33m\u001b[0m\u001b[0m\n",
      "\u001b[1;32m~\\AppData\\Local\\Temp/ipykernel_9680/2469935116.py\u001b[0m in \u001b[0;36mget_most_popular_foods\u001b[1;34m(file_path)\u001b[0m\n\u001b[0;32m     32\u001b[0m             \u001b[1;32mif\u001b[0m \u001b[0mkey\u001b[0m \u001b[1;32mnot\u001b[0m \u001b[1;32min\u001b[0m \u001b[0mcategory_map\u001b[0m\u001b[1;33m:\u001b[0m\u001b[1;33m\u001b[0m\u001b[1;33m\u001b[0m\u001b[0m\n\u001b[1;32m---> 33\u001b[1;33m                 \u001b[0mcategory_map\u001b[0m\u001b[1;33m.\u001b[0m\u001b[0mupdate\u001b[0m\u001b[1;33m(\u001b[0m\u001b[1;33m(\u001b[0m\u001b[0mkey\u001b[0m\u001b[1;33m,\u001b[0m \u001b[0mval\u001b[0m\u001b[1;33m)\u001b[0m\u001b[1;33m)\u001b[0m\u001b[1;33m\u001b[0m\u001b[1;33m\u001b[0m\u001b[0m\n\u001b[0m\u001b[0;32m     34\u001b[0m                 \u001b[0mprint\u001b[0m\u001b[1;33m(\u001b[0m\u001b[1;34m\"category_map: \"\u001b[0m \u001b[1;33m+\u001b[0m \u001b[0mcategory_map\u001b[0m\u001b[1;33m)\u001b[0m\u001b[1;33m\u001b[0m\u001b[1;33m\u001b[0m\u001b[0m\n",
      "\u001b[1;31mValueError\u001b[0m: dictionary update sequence element #0 has length 5; 2 is required",
      "\nDuring handling of the above exception, another exception occurred:\n",
      "\u001b[1;31mStudentError\u001b[0m                              Traceback (most recent call last)",
      "\u001b[1;32m~\\AppData\\Local\\Temp/ipykernel_9680/2269042379.py\u001b[0m in \u001b[0;36m<module>\u001b[1;34m\u001b[0m\n\u001b[0;32m      1\u001b[0m \u001b[1;32mfrom\u001b[0m \u001b[0mbwsi_grader\u001b[0m\u001b[1;33m.\u001b[0m\u001b[0mpython\u001b[0m\u001b[1;33m.\u001b[0m\u001b[0modds_and_ends\u001b[0m \u001b[1;32mimport\u001b[0m \u001b[0mgrade_file_parser\u001b[0m\u001b[1;33m\u001b[0m\u001b[1;33m\u001b[0m\u001b[0m\n\u001b[1;32m----> 2\u001b[1;33m \u001b[0mgrade_file_parser\u001b[0m\u001b[1;33m(\u001b[0m\u001b[0mget_most_popular_foods\u001b[0m\u001b[1;33m)\u001b[0m\u001b[1;33m\u001b[0m\u001b[1;33m\u001b[0m\u001b[0m\n\u001b[0m",
      "\u001b[1;32m~\\anaconda3\\lib\\site-packages\\bwsi_grader\\python\\odds_and_ends.py\u001b[0m in \u001b[0;36mgrade_file_parser\u001b[1;34m(student_fuction)\u001b[0m\n\u001b[0;32m     97\u001b[0m                 \u001b[0mitems_per_entry\u001b[0m\u001b[1;33m=\u001b[0m\u001b[0mnp\u001b[0m\u001b[1;33m.\u001b[0m\u001b[0mrandom\u001b[0m\u001b[1;33m.\u001b[0m\u001b[0mrandint\u001b[0m\u001b[1;33m(\u001b[0m\u001b[1;36m2\u001b[0m\u001b[1;33m,\u001b[0m \u001b[1;36m5\u001b[0m\u001b[1;33m)\u001b[0m\u001b[1;33m,\u001b[0m\u001b[1;33m\u001b[0m\u001b[1;33m\u001b[0m\u001b[0m\n\u001b[0;32m     98\u001b[0m             )\n\u001b[1;32m---> 99\u001b[1;33m             compare_functions(\n\u001b[0m\u001b[0;32m    100\u001b[0m                 \u001b[0mstudent\u001b[0m\u001b[1;33m=\u001b[0m\u001b[0mstudent_fuction\u001b[0m\u001b[1;33m,\u001b[0m \u001b[0msoln\u001b[0m\u001b[1;33m=\u001b[0m\u001b[0msolution\u001b[0m\u001b[1;33m,\u001b[0m \u001b[0mfn_args\u001b[0m\u001b[1;33m=\u001b[0m\u001b[1;33m(\u001b[0m\u001b[0mfoods_file\u001b[0m\u001b[1;33m,\u001b[0m\u001b[1;33m)\u001b[0m\u001b[1;33m\u001b[0m\u001b[1;33m\u001b[0m\u001b[0m\n\u001b[0;32m    101\u001b[0m             )\n",
      "\u001b[1;32m~\\anaconda3\\lib\\site-packages\\bwsi_grader\\__init__.py\u001b[0m in \u001b[0;36mcompare_functions\u001b[1;34m(student, soln, fn_args, fn_kwargs, function_name, comparison_function)\u001b[0m\n\u001b[0;32m    119\u001b[0m         \u001b[0mstudent_out\u001b[0m \u001b[1;33m=\u001b[0m \u001b[0mstudent\u001b[0m\u001b[1;33m(\u001b[0m\u001b[1;33m*\u001b[0m\u001b[0mfn_args\u001b[0m\u001b[1;33m,\u001b[0m \u001b[1;33m**\u001b[0m\u001b[0mfn_kwargs\u001b[0m\u001b[1;33m)\u001b[0m\u001b[1;33m\u001b[0m\u001b[1;33m\u001b[0m\u001b[0m\n\u001b[0;32m    120\u001b[0m     \u001b[1;32mexcept\u001b[0m \u001b[0mException\u001b[0m \u001b[1;32mas\u001b[0m \u001b[0me\u001b[0m\u001b[1;33m:\u001b[0m\u001b[1;33m\u001b[0m\u001b[1;33m\u001b[0m\u001b[0m\n\u001b[1;32m--> 121\u001b[1;33m         raise StudentError(\n\u001b[0m\u001b[0;32m    122\u001b[0m             \u001b[1;34mf\"\\nCalling \\n\\t{pad_indent(sig, ln=4)}\\nproduces the following error:\"\u001b[0m\u001b[1;33m\u001b[0m\u001b[1;33m\u001b[0m\u001b[0m\n\u001b[0;32m    123\u001b[0m             \u001b[1;34mf\"\\n\\t{type(e).__name__}:{e}\"\u001b[0m\u001b[1;33m\u001b[0m\u001b[1;33m\u001b[0m\u001b[0m\n",
      "\u001b[1;31mStudentError\u001b[0m: \nCalling \n\tstudent_function('favorite-foods.txt')\nproduces the following error:\n\tValueError:dictionary update sequence element #0 has length 5; 2 is required\nPlease run your function, as displayed above, in your Jupyter notebook to get a detailed stacktrace of the error, and debug your function."
     ]
    }
   ],
   "source": [
    "from bwsi_grader.python.odds_and_ends import grade_file_parser\n",
    "grade_file_parser(get_most_popular_foods)"
   ]
  },
  {
   "cell_type": "markdown",
   "metadata": {},
   "source": [
    "## Problem 2: Plotting an Image with Matplotlib\n",
    "\n",
    "We have an image in the file `resources/mystery-img.npy`. Read and plot the image, then answer the following for Question 2 of the homework:\n",
    "\n",
    "__What is in this image?__"
   ]
  }
 ],
 "metadata": {
  "kernelspec": {
   "display_name": "Python 3",
   "language": "python",
   "name": "python3"
  },
  "language_info": {
   "codemirror_mode": {
    "name": "ipython",
    "version": 3
   },
   "file_extension": ".py",
   "mimetype": "text/x-python",
   "name": "python",
   "nbconvert_exporter": "python",
   "pygments_lexer": "ipython3",
   "version": "3.9.7"
  }
 },
 "nbformat": 4,
 "nbformat_minor": 2
}
