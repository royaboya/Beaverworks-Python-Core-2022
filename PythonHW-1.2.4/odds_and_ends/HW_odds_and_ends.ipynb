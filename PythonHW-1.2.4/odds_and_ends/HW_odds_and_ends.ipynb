{
 "cells": [
  {
   "cell_type": "markdown",
   "metadata": {},
   "source": [
    "## Odds and Ends: File Reading and Matplotlib\n",
    "\n",
    "Now that we're familiar with the essentials of the Python language we're going to practice [reading files](https://www.pythonlikeyoumeanit.com/Module5_OddsAndEnds/WorkingWithFiles.html) and [plotting with Matplotlib](https://www.pythonlikeyoumeanit.com/Module5_OddsAndEnds/Matplotlib.html). \n",
    "\n",
    "Although these topics may be considered \"odds and ends\", they are common in many day-to-day applications. You'll find that spending some time up front to become familiar with these materials will save a lot of time down the road."
   ]
  },
  {
   "cell_type": "markdown",
   "metadata": {},
   "source": [
    "## Problem 1: Reading and Parsing Files\n",
    "Let's pretend we were conducting a survey of favorite foods. Each participant is asked to list their favorite foods along with its category (e.g. dessert, snack, fruit). The food and category are separated by a colon, and each food-category pair is separated by a comma like so\n",
    "\n",
    "```food: category, food: category, food: category, ... ```\n",
    "\n",
    "The results of this survey are stored in a text file, `results.txt`, giving us a great opportunity to practice our file reading skills!\n",
    "\n",
    "Our task is to write a function called `get_most_popular_foods` that takes a file path of survey results and returns the most common response for each food category in the form of a dictionary where the keys are the food categories and the values are the most common food of that type. If there is a tie, return the food that comes first alphabetically. Note, we don't know which food categories will be given before reading the file.\n",
    "\n",
    "So, if we had data in the file `example.txt` with the contents below\n",
    "\n",
    "``` granola bars: snack, shrimp: seafood\n",
    "granola bars: snack\n",
    "tuna: seafood ```\n",
    "\n",
    "Our function would produce the following result\n",
    " ``` python\n",
    " >>> get_most_popular_foods('example.txt')\n",
    "  {'snack': 'granola bars', 'seafood': ' shrimp'}\n",
    " ```\n",
    " \n",
    " The `collections.Counter` object will be useful for this problem. Also, the function `itertools.chain` may come in handy.\n",
    " \n",
    "For reference, there is a short example input under `resources/example-survey.txt`. On this input, your function should produce the response as follows\n",
    " ``` python\n",
    ">>> get_most_popular_foods('resources/example-survey.txt')\n",
    " {'dessert': 'cake', 'vegetable': 'carrots', 'fruit': 'peaches'}\n",
    "```"
   ]
  },
  {
   "cell_type": "code",
   "execution_count": 20,
   "metadata": {},
   "outputs": [],
   "source": [
    "import re\n",
    "import collections as c\n",
    "\n",
    "def get_most_popular_foods(file_path):\n",
    "    \"\"\" Read in survey and determine the most common food of each type.\n",
    "    \n",
    "    Parameters\n",
    "    ----------\n",
    "    file_path : str\n",
    "        Path to text file containing favorite food survey responses.\n",
    "        \n",
    "    Returns\n",
    "    -------\n",
    "    Dict[str, str]\n",
    "        Dictionary with the key being food type and value being food.\n",
    "    \"\"\"\n",
    "    \n",
    "    #https://docs.python.org/3/library/collections.html#collections.Counter\n",
    "\n",
    "    # value of file pairs are keys in returned\n",
    "\n",
    "    category_map = {} # maps food to category\n",
    "    categories = {} # category as keys, final foods as values\n",
    "    categories_max = {}\n",
    "    with open(file_path, mode=\"r\") as f:\n",
    "        file = f.read()\n",
    "\n",
    "        # extract into strings\n",
    "        raw_pairs = re.split('\\n|,', file)\n",
    "        pairs = [i.strip() for i in raw_pairs]\n",
    "        pairs_copy = pairs.copy()\n",
    "\n",
    "        for i in range(len(pairs_copy)):\n",
    "            index_of_colon = pairs_copy[i].index(':')\n",
    "            pairs_copy[i] = pairs_copy[i][:index_of_colon]\n",
    "\n",
    "        print(\"PAIRS:\")\n",
    "        print(pairs_copy)\n",
    "\n",
    "        # construct category to map pairs\n",
    "        for pair in pairs:\n",
    "            (key, val) = pair.split(':')\n",
    "            if key not in category_map:\n",
    "                category_map[key] = val\n",
    "\n",
    "        # print(\"\\n===CATEGORY MAP===\\n\") \n",
    "        # print(category_map)\n",
    "\n",
    "        counter = c.Counter(pairs_copy)\n",
    "        items = sorted(counter.items())\n",
    "        \n",
    "        # for i in items:\n",
    "        #     print(i)\n",
    "\n",
    "        # add category with first instance value \n",
    "        for value in category_map.values():\n",
    "            if value not in categories:\n",
    "                categories[value] = None \n",
    "                categories_max[value] = 0\n",
    "\n",
    "        \n",
    "\n",
    "        for item in counter.items():\n",
    "            # print(item[0])\n",
    "            # print(type(item[1]))\n",
    "            item_category = category_map[item[0]] # gets the food category of the food\n",
    "            count = item[1]\n",
    "            if count > categories_max[item_category]:\n",
    "                categories_max[item_category] = count\n",
    "                categories[item_category] = items[0]\n",
    "        \n",
    "        # print(\"distinct key values: \")\n",
    "        # print(categories)\n",
    "\n",
    "\n",
    "    return categories\n",
    "\n",
    "# NOTES\n",
    "# i think i can instead, have the foods counted in the counter instead of the pairs and then\n",
    "# after counting the foods, use a dictionary that maps the food to categories\n",
    "# and then update the most common ones\n"
   ]
  },
  {
   "cell_type": "code",
   "execution_count": 21,
   "metadata": {},
   "outputs": [
    {
     "name": "stdout",
     "output_type": "stream",
     "text": [
      "PAIRS:\n",
      "['carrots', 'ice cream', 'peaches', 'spinach', 'carrots', 'broccoli', 'apples', 'pork', 'pork', 'ice cream', 'pork', 'pears', 'spinach', 'chicken', 'ice cream', 'pork']\n"
     ]
    },
    {
     "ename": "StudentError",
     "evalue": "\nCalling \n\tstudent_function('favorite-foods.txt')\nproduced an incorrect result.\n\nExpected:\n{'vegetable': 'carrots', 'dessert': 'ice cream', 'fruit': 'apples', 'meat': 'pork'}\n\nGot:\n{' vegetable': ('apples', 1), ' dessert': ('apples', 1), ' fruit': ('apples', 1), ' meat': ('apples', 1)}",
     "output_type": "error",
     "traceback": [
      "\u001b[1;31m---------------------------------------------------------------------------\u001b[0m",
      "\u001b[1;31mStudentError\u001b[0m                              Traceback (most recent call last)",
      "\u001b[1;32m~\\AppData\\Local\\Temp/ipykernel_6408/2269042379.py\u001b[0m in \u001b[0;36m<module>\u001b[1;34m\u001b[0m\n\u001b[0;32m      1\u001b[0m \u001b[1;32mfrom\u001b[0m \u001b[0mbwsi_grader\u001b[0m\u001b[1;33m.\u001b[0m\u001b[0mpython\u001b[0m\u001b[1;33m.\u001b[0m\u001b[0modds_and_ends\u001b[0m \u001b[1;32mimport\u001b[0m \u001b[0mgrade_file_parser\u001b[0m\u001b[1;33m\u001b[0m\u001b[1;33m\u001b[0m\u001b[0m\n\u001b[1;32m----> 2\u001b[1;33m \u001b[0mgrade_file_parser\u001b[0m\u001b[1;33m(\u001b[0m\u001b[0mget_most_popular_foods\u001b[0m\u001b[1;33m)\u001b[0m\u001b[1;33m\u001b[0m\u001b[1;33m\u001b[0m\u001b[0m\n\u001b[0m",
      "\u001b[1;32mc:\\Users\\insan\\anaconda3\\lib\\site-packages\\bwsi_grader\\python\\odds_and_ends.py\u001b[0m in \u001b[0;36mgrade_file_parser\u001b[1;34m(student_fuction)\u001b[0m\n\u001b[0;32m     97\u001b[0m                 \u001b[0mitems_per_entry\u001b[0m\u001b[1;33m=\u001b[0m\u001b[0mnp\u001b[0m\u001b[1;33m.\u001b[0m\u001b[0mrandom\u001b[0m\u001b[1;33m.\u001b[0m\u001b[0mrandint\u001b[0m\u001b[1;33m(\u001b[0m\u001b[1;36m2\u001b[0m\u001b[1;33m,\u001b[0m \u001b[1;36m5\u001b[0m\u001b[1;33m)\u001b[0m\u001b[1;33m,\u001b[0m\u001b[1;33m\u001b[0m\u001b[1;33m\u001b[0m\u001b[0m\n\u001b[0;32m     98\u001b[0m             )\n\u001b[1;32m---> 99\u001b[1;33m             compare_functions(\n\u001b[0m\u001b[0;32m    100\u001b[0m                 \u001b[0mstudent\u001b[0m\u001b[1;33m=\u001b[0m\u001b[0mstudent_fuction\u001b[0m\u001b[1;33m,\u001b[0m \u001b[0msoln\u001b[0m\u001b[1;33m=\u001b[0m\u001b[0msolution\u001b[0m\u001b[1;33m,\u001b[0m \u001b[0mfn_args\u001b[0m\u001b[1;33m=\u001b[0m\u001b[1;33m(\u001b[0m\u001b[0mfoods_file\u001b[0m\u001b[1;33m,\u001b[0m\u001b[1;33m)\u001b[0m\u001b[1;33m\u001b[0m\u001b[1;33m\u001b[0m\u001b[0m\n\u001b[0;32m    101\u001b[0m             )\n",
      "\u001b[1;32mc:\\Users\\insan\\anaconda3\\lib\\site-packages\\bwsi_grader\\__init__.py\u001b[0m in \u001b[0;36mcompare_functions\u001b[1;34m(student, soln, fn_args, fn_kwargs, function_name, comparison_function)\u001b[0m\n\u001b[0;32m    164\u001b[0m     )\n\u001b[0;32m    165\u001b[0m     \u001b[1;32mif\u001b[0m \u001b[0mmismatch_msg\u001b[0m\u001b[1;33m:\u001b[0m\u001b[1;33m\u001b[0m\u001b[1;33m\u001b[0m\u001b[0m\n\u001b[1;32m--> 166\u001b[1;33m         raise StudentError(\n\u001b[0m\u001b[0;32m    167\u001b[0m             \u001b[1;34mf\"\\nCalling \\n\\t{pad_indent(sig, ln=4)}\\nproduced an incorrect result.\\n\\n\"\u001b[0m\u001b[1;33m\u001b[0m\u001b[1;33m\u001b[0m\u001b[0m\n\u001b[0;32m    168\u001b[0m             \u001b[1;33m+\u001b[0m \u001b[0mmismatch_msg\u001b[0m\u001b[1;33m\u001b[0m\u001b[1;33m\u001b[0m\u001b[0m\n",
      "\u001b[1;31mStudentError\u001b[0m: \nCalling \n\tstudent_function('favorite-foods.txt')\nproduced an incorrect result.\n\nExpected:\n{'vegetable': 'carrots', 'dessert': 'ice cream', 'fruit': 'apples', 'meat': 'pork'}\n\nGot:\n{' vegetable': ('apples', 1), ' dessert': ('apples', 1), ' fruit': ('apples', 1), ' meat': ('apples', 1)}"
     ]
    }
   ],
   "source": [
    "from bwsi_grader.python.odds_and_ends import grade_file_parser\n",
    "grade_file_parser(get_most_popular_foods)"
   ]
  },
  {
   "cell_type": "markdown",
   "metadata": {},
   "source": [
    "## Problem 2: Plotting an Image with Matplotlib\n",
    "\n",
    "We have an image in the file `resources/mystery-img.npy`. Read and plot the image, then answer the following for Question 2 of the homework:\n",
    "\n",
    "__What is in this image?__"
   ]
  }
 ],
 "metadata": {
  "kernelspec": {
   "display_name": "Python 3.9.7 ('base')",
   "language": "python",
   "name": "python3"
  },
  "language_info": {
   "codemirror_mode": {
    "name": "ipython",
    "version": 3
   },
   "file_extension": ".py",
   "mimetype": "text/x-python",
   "name": "python",
   "nbconvert_exporter": "python",
   "pygments_lexer": "ipython3",
   "version": "3.9.7"
  },
  "vscode": {
   "interpreter": {
    "hash": "76592f53b33916c6e8d1eb4552705a205068384a73e95d8f2366247938294017"
   }
  }
 },
 "nbformat": 4,
 "nbformat_minor": 2
}
